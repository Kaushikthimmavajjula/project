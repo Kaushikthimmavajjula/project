{
 "cells": [
  {
   "cell_type": "markdown",
   "metadata": {},
   "source": [
    "### Training time"
   ]
  },
  {
   "cell_type": "code",
   "execution_count": null,
   "metadata": {
    "scrolled": false
   },
   "outputs": [],
   "source": [
    "import pandas as pd\n",
    "import numpy as np\n",
    "from sklearn.feature_extraction.text import TfidfVectorizer\n",
    "from sklearn.decomposition import TruncatedSVD\n",
    "from sklearn.cluster import KMeans\n",
    "import pickle as pk\n",
    "\n",
    "df = pd.read_csv('./sample.csv',header = None)\n",
    "\n",
    "df.columns = ['name','text']\n",
    "\n",
    "df = df.dropna()\n",
    "#vectorize documents \n",
    "vectorizer = TfidfVectorizer(max_features = 1000) \n",
    "doc_vecs = vectorizer.fit_transform(df.text.dropna())\n",
    "#dimenstionality reduction\n",
    "svd = TruncatedSVD(n_components=20, n_iter=10, random_state=42)\n",
    "dv = svd.fit_transform(doc_vecs)\n",
    "#clustering\n",
    "kmeans = KMeans(n_clusters=5, random_state=42,n_jobs=8).fit(dv)\n",
    "\n",
    "df['class'] = kmeans.labels_\n",
    "#save models learnt \n",
    "with open('model_tfidf.pkl','wb') as f:\n",
    "    pk.dump(vectorizer,f)\n",
    "\n",
    "with open('model_svd.pkl','wb') as f:\n",
    "    pk.dump(svd,f)\n",
    "\n",
    "with open('model_km.pkl','wb') as f:\n",
    "    pk.dump(kmeans,f)"
   ]
  },
  {
   "cell_type": "code",
   "execution_count": null,
   "metadata": {},
   "outputs": [],
   "source": [
    "\n",
    "\n"
   ]
  },
  {
   "cell_type": "code",
   "execution_count": null,
   "metadata": {},
   "outputs": [],
   "source": []
  },
  {
   "cell_type": "code",
   "execution_count": null,
   "metadata": {},
   "outputs": [],
   "source": []
  },
  {
   "cell_type": "code",
   "execution_count": null,
   "metadata": {},
   "outputs": [],
   "source": []
  },
  {
   "cell_type": "code",
   "execution_count": null,
   "metadata": {},
   "outputs": [],
   "source": []
  }
 ],
 "metadata": {
  "kernelspec": {
   "display_name": "Python 3",
   "language": "python",
   "name": "python3"
  },
  "language_info": {
   "codemirror_mode": {
    "name": "ipython",
    "version": 3
   },
   "file_extension": ".py",
   "mimetype": "text/x-python",
   "name": "python",
   "nbconvert_exporter": "python",
   "pygments_lexer": "ipython3",
   "version": "3.6.4"
  }
 },
 "nbformat": 4,
 "nbformat_minor": 2
}
